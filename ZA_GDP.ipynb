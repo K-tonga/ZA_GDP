# ZA_GDPDV-2018 registration period was from October 4, 2016, until November 7, 2016.
import pandas as pd
import numpy as np
import seaborn as sns
import matplotlib
from matplotlib import pyplot as plt
from pandas.plotting import scatter_matrix
data = pd.read_csv('API_ZAF_DS2_en_csv_v2.csv', sep=',',
                  names=["Country Name","Country Code","Indicator Name","Indicator Code"])
data.describe()
mean_=data[0:4].mean()
mean_
plt.figure(figsize=(10,10))
data_clean=data.dropna()
plt.plot(data_clean['BG.GSR.NFSV.GD.ZS'],
         data_clean['AG.YLD.CREL.KG'])
plt.figure(figsize=(10,10))
plt.bar(data_clean['BG.GSR.NFSV.GD.ZS'],
         data_clean['AG.YLD.CREL.KG'])
gdp=data.groupby(['AG.YLD.CREL.KG']).count()
gdp
